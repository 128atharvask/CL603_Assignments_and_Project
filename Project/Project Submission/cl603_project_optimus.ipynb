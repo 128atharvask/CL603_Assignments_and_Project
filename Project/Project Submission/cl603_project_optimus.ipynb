{
 "cells": [
  {
   "attachments": {},
   "cell_type": "markdown",
   "metadata": {},
   "source": [
    "# CL603 Project\n",
    "## Implementation of real-valued genetic algorithm using decimal representation for genes\n",
    "#### Team: Optimus\n",
    "Atharva Kulkarni   -- 210070047  \n",
    "Ayush Raj          -- 210100037  \n",
    "Faizan Ansari      -- 210100058  \n",
    "Rishit Shrivastava -- 210050136"
   ]
  },
  {
   "cell_type": "code",
   "execution_count": 26,
   "metadata": {},
   "outputs": [],
   "source": [
    "from numpy import random\n",
    "import numpy as np\n",
    "import matplotlib.pyplot as plt\n",
    "from math import sin "
   ]
  },
  {
   "cell_type": "code",
   "execution_count": 27,
   "metadata": {},
   "outputs": [],
   "source": [
    "#test function\n",
    "def func(x,y,z):\n",
    "    return abs(x) + abs(y) + abs(z)"
   ]
  },
  {
   "cell_type": "code",
   "execution_count": 28,
   "metadata": {},
   "outputs": [],
   "source": [
    "#some parameters which will be used later\n",
    "best_gene=[]\n",
    "best_gene_fitness=[]\n",
    "max_gen=1000000\n",
    "fitness_threshold=20000\n",
    "mutation_prob=0.3\n",
    "\n",
    "spread=10 #will be used for generating 1st generation and further for generating random number for mutation"
   ]
  },
  {
   "attachments": {},
   "cell_type": "markdown",
   "metadata": {},
   "source": [
    "### Fitness function\n",
    "We define a function so that a smaller value of the function yields a higher fitness value, and to counter the function becoming zero, we arbitrarily assign a very large fitness value (assuming that the function we use minimizes to zero)"
   ]
  },
  {
   "cell_type": "code",
   "execution_count": 29,
   "metadata": {},
   "outputs": [],
   "source": [
    "def fitness(x,y,z):\n",
    "    if func(x,y,z)==0:\n",
    "        result = 9999999\n",
    "    else:\n",
    "        result = abs(1/func(x,y,z))\n",
    "    return result"
   ]
  },
  {
   "attachments": {},
   "cell_type": "markdown",
   "metadata": {},
   "source": [
    "### Generation\n",
    "We will have \"**n_chromosome**\" number of chromosomes with 3 genes in each of them. Initially we will generate the 1st generation at random."
   ]
  },
  {
   "cell_type": "code",
   "execution_count": 30,
   "metadata": {},
   "outputs": [
    {
     "name": "stdout",
     "output_type": "stream",
     "text": [
      "The 1st generation is as follows:\n",
      "[ 6.34232363  3.80818677 -5.08913706]\n",
      "[ 0.89203708 -4.2353973   5.95446155]\n",
      "[-6.50848774  8.03605939 -8.86954675]\n",
      "[ 2.6454877  -8.25483647 -1.89637359]\n",
      "[-6.91420498  1.92791027  2.68088078]\n",
      "[ 8.17122625 -6.50645504 -0.75281827]\n",
      "[ 1.91001492 -2.56013858  4.91729524]\n",
      "[ 5.29476049  9.05560742 -2.86228464]\n",
      "[-9.85626615  0.62476106 -0.59436094]\n",
      "[-9.50183489  1.55844597 -2.10546388]\n",
      "[ 4.30145071 -2.52889339 -1.36207139]\n",
      "[-5.10001701  7.55746452  2.76665221]\n",
      "[ 2.25437291 -2.44723616  9.89098796]\n",
      "[ 6.17951635 -4.90469312  5.46385776]\n",
      "[ 5.72387841  8.09415363 -7.99180897]\n",
      "[-6.6881642   1.91472555 -4.67473674]\n"
     ]
    }
   ],
   "source": [
    "n_chromosomes = 16\n",
    "n_genes = 3 #basically the number of variables\n",
    "size = (n_chromosomes,n_genes)\n",
    "gen = 1\n",
    "generation=random.uniform(-spread,spread,size)\n",
    "print(f\"The 1st generation is as follows:\")\n",
    "\n",
    "for i in range(n_chromosomes):\n",
    "    print(generation[i])"
   ]
  },
  {
   "attachments": {},
   "cell_type": "markdown",
   "metadata": {},
   "source": [
    "### Ranking\n",
    "Now we will rank the chromosomes in descending order based on their fitness."
   ]
  },
  {
   "cell_type": "code",
   "execution_count": 31,
   "metadata": {},
   "outputs": [
    {
     "name": "stdout",
     "output_type": "stream",
     "text": [
      "The 1st generation after sorting by their fitness is as follows:\n",
      "Rank 1: [ 4.30145071 -2.52889339 -1.36207139] , fitness = 0.12206412151237703\n",
      "Rank 2: [ 1.91001492 -2.56013858  4.91729524] , fitness = 0.10652521551949816\n",
      "Rank 3: [-9.85626615  0.62476106 -0.59436094] , fitness = 0.09029028923421999\n",
      "Rank 4: [ 0.89203708 -4.2353973   5.95446155] , fitness = 0.09023726681948986\n",
      "Rank 5: [-6.91420498  1.92791027  2.68088078] , fitness = 0.08678298568920154\n",
      "Rank 6: [ 2.6454877  -8.25483647 -1.89637359] , fitness = 0.07814516049735386\n",
      "Rank 7: [-9.50183489  1.55844597 -2.10546388] , fitness = 0.0759546854098309\n",
      "Rank 8: [-6.6881642   1.91472555 -4.67473674] , fitness = 0.07531466568357771\n",
      "Rank 9: [ 2.25437291 -2.44723616  9.89098796] , fitness = 0.06852789798885787\n",
      "Rank 10: [ 6.34232363  3.80818677 -5.08913706] , fitness = 0.06561831579306604\n",
      "Rank 11: [-5.10001701  7.55746452  2.76665221] , fitness = 0.06483346271455384\n",
      "Rank 12: [ 8.17122625 -6.50645504 -0.75281827] , fitness = 0.06480671582239408\n",
      "Rank 13: [ 6.17951635 -4.90469312  5.46385776] , fitness = 0.06043001795517619\n",
      "Rank 14: [ 5.29476049  9.05560742 -2.86228464] , fitness = 0.05809679812163426\n",
      "Rank 15: [ 5.72387841  8.09415363 -7.99180897] , fitness = 0.0458508615190065\n",
      "Rank 16: [-6.50848774  8.03605939 -8.86954675] , fitness = 0.04270931881575215\n"
     ]
    }
   ],
   "source": [
    "ranked_generation = []\n",
    "for i in generation:\n",
    "    ranked_generation.append( (fitness(i[0],i[1],i[2]), i) )\n",
    "ranked_generation.sort(reverse=True)\n",
    "\n",
    "best_gene.append(ranked_generation[0][1])\n",
    "best_gene_fitness.append(ranked_generation[0][0])\n",
    "\n",
    "print(f\"The 1st generation after sorting by their fitness is as follows:\")\n",
    "for i in range(n_chromosomes):\n",
    "    print(f\"Rank {i+1}: {ranked_generation[i][1]} , fitness = {ranked_generation[i][0]}\")"
   ]
  },
  {
   "attachments": {},
   "cell_type": "markdown",
   "metadata": {},
   "source": [
    "### Selection\n",
    "Now, we will select top \"**n_chromosomes/2**\" fitness chromosomes from this generation for further mating"
   ]
  },
  {
   "cell_type": "code",
   "execution_count": 32,
   "metadata": {},
   "outputs": [
    {
     "name": "stdout",
     "output_type": "stream",
     "text": [
      "The selected parent chromosomes are as follows:\n",
      "[4.301450707905339, -2.528893390254783, -1.3620713930585833]\n",
      "[1.9100149177578736, -2.560138581467326, 4.917295238834026]\n",
      "[-9.85626615385228, 0.6247610594656265, -0.5943609428316741]\n",
      "[0.8920370820011385, -4.235397298421608, 5.954461550671827]\n",
      "[-6.914204982061792, 1.9279102684874534, 2.680880784426199]\n",
      "[2.6454877013961724, -8.254836469826827, -1.8963735850489556]\n",
      "[-9.501834885860363, 1.558445970363504, -2.1054638849237133]\n",
      "[-6.688164202822668, 1.9147255498770193, -4.674736735099341]\n"
     ]
    }
   ],
   "source": [
    "parents = ranked_generation[:int(n_chromosomes/2)]\n",
    "parent_chromosomes=[]\n",
    "\n",
    "print(f\"The selected parent chromosomes are as follows:\")\n",
    "\n",
    "k=0\n",
    "for i in parents:\n",
    "    parent_chromosomes.append(list(i[1]))\n",
    "    print(parent_chromosomes[k])\n",
    "    k+=1"
   ]
  },
  {
   "attachments": {},
   "cell_type": "markdown",
   "metadata": {},
   "source": [
    "### Mating\n",
    "For the mating process, we will use fixed point crossover, where basically (assuming the fixed point is \"**n**\"), the first n genes are from parent 1 and remaining from parent 2"
   ]
  },
  {
   "cell_type": "code",
   "execution_count": 33,
   "metadata": {},
   "outputs": [],
   "source": [
    "def mating(parents,crossover_point):\n",
    "    offsprings=[]\n",
    "    \n",
    "    #we will be mating parent i with i+1 and we will go through this in a circular manner, so that in the end,\n",
    "    #last index parent is mated with 0th\n",
    "    for i in range(len(parents)-1):\n",
    "        child_chromosome=list(parents[i][:crossover_point])+list(parents[i+1][crossover_point:])\n",
    "        offsprings.append(child_chromosome)\n",
    "\n",
    "    child_chromosome=list(parents[len(parents)-1][:crossover_point])+list(parents[0][crossover_point:])\n",
    "    offsprings.append(child_chromosome)\n",
    "\n",
    "    return offsprings"
   ]
  },
  {
   "cell_type": "code",
   "execution_count": 34,
   "metadata": {},
   "outputs": [
    {
     "name": "stdout",
     "output_type": "stream",
     "text": [
      "The  offsprings are as follows:\n",
      "[4.301450707905339, -2.560138581467326, 4.917295238834026]\n",
      "[1.9100149177578736, 0.6247610594656265, -0.5943609428316741]\n",
      "[-9.85626615385228, -4.235397298421608, 5.954461550671827]\n",
      "[0.8920370820011385, 1.9279102684874534, 2.680880784426199]\n",
      "[-6.914204982061792, -8.254836469826827, -1.8963735850489556]\n",
      "[2.6454877013961724, 1.558445970363504, -2.1054638849237133]\n",
      "[-9.501834885860363, 1.9147255498770193, -4.674736735099341]\n",
      "[-6.688164202822668, -2.528893390254783, -1.3620713930585833]\n"
     ]
    }
   ],
   "source": [
    "offsprings = mating(parent_chromosomes,int(n_genes/2))\n",
    "\n",
    "print(f\"The  offsprings are as follows:\")\n",
    "for i in offsprings:\n",
    "    print(i)"
   ]
  },
  {
   "attachments": {},
   "cell_type": "markdown",
   "metadata": {},
   "source": [
    "### Mutation\n",
    "For mutation, we had already defined a mutation probablity, so we will generate a random number between 0 and 1, and if this number is less than mutation probablity, then we will randomly change one of the gene of the chromosome, to a random number. This process will be repeated for all the chromosomes"
   ]
  },
  {
   "cell_type": "code",
   "execution_count": 35,
   "metadata": {},
   "outputs": [
    {
     "name": "stdout",
     "output_type": "stream",
     "text": [
      "Mutated offsprings are as follows:\n",
      "[4.301450707905339, -2.560138581467326, 4.917295238834026]\n",
      "[1.9100149177578736, 0.6247610594656265, -0.5943609428316741]\n",
      "[-0.2947352916686281, -4.235397298421608, 5.954461550671827]\n",
      "[1.4735211216519737, 1.9279102684874534, 2.680880784426199]\n",
      "[-6.914204982061792, -8.254836469826827, -1.8963735850489556]\n",
      "[2.6454877013961724, 1.558445970363504, -2.1054638849237133]\n",
      "[-9.501834885860363, 1.9147255498770193, -4.674736735099341]\n",
      "[-6.688164202822668, -2.528893390254783, 4.038566616882697]\n"
     ]
    }
   ],
   "source": [
    "print(f\"Mutated offsprings are as follows:\")\n",
    "for i in offsprings:\n",
    "    chance = random.rand()\n",
    "    if chance<mutation_prob:\n",
    "        index=random.randint(0,n_genes)\n",
    "        i[index]=random.uniform(-spread,spread)\n",
    "    print(i)\n",
    "\n",
    "generation=parent_chromosomes+offsprings\n",
    "gen+=1"
   ]
  },
  {
   "attachments": {},
   "cell_type": "markdown",
   "metadata": {},
   "source": [
    "#### Moving Further\n",
    "We will repeat the same process above for some \"**max_gen**\" number of generations, and we will also put a fitness threshold, so that if we find a chromosome with a fitness higher than the threshold, we stop the iterations and declare that chromosome as the answer"
   ]
  },
  {
   "cell_type": "code",
   "execution_count": 36,
   "metadata": {},
   "outputs": [
    {
     "name": "stdout",
     "output_type": "stream",
     "text": [
      "The fittest gene is: [-3.024220188230231e-05, -8.218839939289069e-06, 3.0015865403854036e-05] ,\n",
      "in the generation 999999 , with a fitness of 14603.463277155846\n",
      "The function value at this chromosome is : 6.847690722544542e-05\n"
     ]
    }
   ],
   "source": [
    "while gen<max_gen:\n",
    "    \n",
    "    #Ranking process\n",
    "    ranked_generation = []\n",
    "    for i in generation:\n",
    "        ranked_generation.append( (fitness(i[0],i[1],i[2]), i) )\n",
    "    ranked_generation.sort(reverse=True)\n",
    "    best_gene.append(ranked_generation[0][1])\n",
    "    best_gene_fitness.append(ranked_generation[0][0])\n",
    "\n",
    "    #checking for fitness threshold\n",
    "    if ranked_generation[0][0]>fitness_threshold:\n",
    "        gen+=1\n",
    "        break\n",
    "\n",
    "    #Selection process\n",
    "    parents = ranked_generation[:8]\n",
    "    parent_chromosomes=[]\n",
    "    for i in parents:\n",
    "        parent_chromosomes.append(list(i[1]))\n",
    "\n",
    "    #Mating process\n",
    "    offsprings = mating(parent_chromosomes,int(n_genes/2))\n",
    "    \n",
    "    #Mutation process\n",
    "    for i in offsprings:\n",
    "        chance = random.rand()\n",
    "        if chance< mutation_prob:\n",
    "            index=random.randint(0,n_genes)\n",
    "            i[index]=random.uniform(-spread,spread)\n",
    "    \n",
    "    generation=parent_chromosomes+offsprings\n",
    "\n",
    "    gen+=1\n",
    "result_gen=gen-1\n",
    "print(f\"The fittest gene is: {ranked_generation[0][1]} ,\\nin the generation {result_gen} , with a fitness of {ranked_generation[0][0]}\")\n",
    "print(f\"The function value at this chromosome is : {func(ranked_generation[0][1][0],ranked_generation[0][1][1],ranked_generation[0][1][2])}\")"
   ]
  },
  {
   "cell_type": "code",
   "execution_count": 37,
   "metadata": {},
   "outputs": [
    {
     "data": {
      "image/png": "[encoded data removed]",
      "text/plain": [
       "<Figure size 640x480 with 1 Axes>"
      ]
     },
     "metadata": {},
     "output_type": "display_data"
    }
   ],
   "source": [
    "plt.plot(np.linspace(1,result_gen,result_gen),best_gene_fitness)\n",
    "plt.xlabel(\"Number of Generation\")\n",
    "plt.ylabel(\"Fitness of the fittest chromosome\")\n",
    "plt.title(\"Fitness of the fittest chromosome in every generation\")\n",
    "plt.grid()\n",
    "plt.show()"
   ]
  }
 ],
 "metadata": {
  "kernelspec": {
   "display_name": "Python 3",
   "language": "python",
   "name": "python3"
  },
  "language_info": {
   "codemirror_mode": {
    "name": "ipython",
    "version": 3
   },
   "file_extension": ".py",
   "mimetype": "text/x-python",
   "name": "python",
   "nbconvert_exporter": "python",
   "pygments_lexer": "ipython3",
   "version": "3.11.2"
  },
  "orig_nbformat": 4
 },
 "nbformat": 4,
 "nbformat_minor": 2
}
